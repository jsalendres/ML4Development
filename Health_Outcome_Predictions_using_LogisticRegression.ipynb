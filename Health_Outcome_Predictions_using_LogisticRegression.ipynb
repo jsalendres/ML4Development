{
  "nbformat": 4,
  "nbformat_minor": 0,
  "metadata": {
    "colab": {
      "name": "Health Outcome Predictions using Machine Learning.ipynb",
      "provenance": [],
      "authorship_tag": "ABX9TyOe7igTiI39ZyLYNjkSKsbS",
      "include_colab_link": true
    },
    "kernelspec": {
      "name": "python3",
      "display_name": "Python 3"
    },
    "language_info": {
      "name": "python"
    }
  },
  "cells": [
    {
      "cell_type": "markdown",
      "metadata": {
        "id": "view-in-github",
        "colab_type": "text"
      },
      "source": [
        "<a href=\"https://colab.research.google.com/github/jsalendres/ML4Development/blob/main/Health_Outcome_Predictions_using_LogisticRegression.ipynb\" target=\"_parent\"><img src=\"https://colab.research.google.com/assets/colab-badge.svg\" alt=\"Open In Colab\"/></a>"
      ]
    },
    {
      "cell_type": "code",
      "metadata": {
        "id": "MYFziBIG1s1x"
      },
      "source": [
        "# Python ≥3.5 is required\n",
        "import sys\n",
        "assert sys.version_info >= (3, 5)\n",
        "\n",
        "# Scikit-Learn ≥0.20 is required\n",
        "import sklearn\n",
        "assert sklearn.__version__ >= \"0.20\"\n",
        "\n",
        "# Common imports\n",
        "import numpy as np\n",
        "import os\n",
        "import pandas as pd # data processing\n",
        "import numpy as np # working with arrays\n",
        "import itertools # construct specialized tools\n",
        "import matplotlib.pyplot as plt # visualizations\n",
        "from matplotlib import rcParams # plot size customization\n",
        "from termcolor import colored as cl # text customization\n",
        "from sklearn.model_selection import train_test_split # splitting the data\n",
        "from sklearn.linear_model import LogisticRegression # model algorithm\n",
        "from sklearn.preprocessing import StandardScaler # data normalization\n",
        "from sklearn.metrics import jaccard_similarity_score as jss # evaluation metric\n",
        "from sklearn.metrics import precision_score # evaluation metric\n",
        "from sklearn.metrics import classification_report # evaluation metric\n",
        "from sklearn.metrics import confusion_matrix # evaluation metric\n",
        "from sklearn.metrics import log_loss # evaluation metric\n",
        "\n",
        "# To plot pretty figures\n",
        "%matplotlib inline\n",
        "import matplotlib as mpl\n",
        "import matplotlib.pyplot as plt\n",
        "mpl.rc('axes', labelsize=14)\n",
        "mpl.rc('xtick', labelsize=12)\n",
        "mpl.rc('ytick', labelsize=12)\n",
        "\n",
        "rcParams['figure.figsize'] = (20, 10)\n"
      ],
      "execution_count": 10,
      "outputs": []
    },
    {
      "cell_type": "code",
      "metadata": {
        "colab": {
          "base_uri": "https://localhost:8080/"
        },
        "id": "CPbPLeuM136J",
        "outputId": "998ef363-ac03-4e52-a73e-385335698913"
      },
      "source": [
        "import pandas as pd\n",
        "\n",
        "gh_url = 'https://raw.githubusercontent.com/abiola1864/ML4Development/main/gh_imputed2.csv'\n",
        "df = pd.read_csv(gh_url,index_col=0)\n",
        "\n",
        "mh_url = 'https://raw.githubusercontent.com/abiola1864/ML4Development/main/mh_imputed.csv'\n",
        "mh = pd.read_csv(mh_url,index_col=0)\n",
        "\n",
        "ch_url = 'https://raw.githubusercontent.com/abiola1864/ML4Development/main/ch_imputed.csv'\n",
        "ch = pd.read_csv(ch_url,index_col=0)\n",
        "\n",
        "print(df.head(5))"
      ],
      "execution_count": 11,
      "outputs": [
        {
          "output_type": "stream",
          "text": [
            "     X  v467c  hv204  ...  Wet_Days_2015  smoke  washhands\n",
            "2    2      0      8  ...      15.180833      1          1\n",
            "3    3      0      8  ...      15.180833      1          1\n",
            "4    4      0      8  ...      15.180833      1          1\n",
            "5    5      0      8  ...      15.180833      1          1\n",
            "12  12      0     30  ...      15.180833      1          0\n",
            "\n",
            "[5 rows x 38 columns]\n"
          ],
          "name": "stdout"
        }
      ]
    },
    {
      "cell_type": "code",
      "metadata": {
        "colab": {
          "base_uri": "https://localhost:8080/",
          "height": 224
        },
        "id": "hoy4OdtU16BJ",
        "outputId": "726ada1f-b4da-44a3-be4b-3141ab690a8f"
      },
      "source": [
        "#for the general health dataset first\n",
        "df.head()"
      ],
      "execution_count": 12,
      "outputs": [
        {
          "output_type": "execute_result",
          "data": {
            "text/html": [
              "<div>\n",
              "<style scoped>\n",
              "    .dataframe tbody tr th:only-of-type {\n",
              "        vertical-align: middle;\n",
              "    }\n",
              "\n",
              "    .dataframe tbody tr th {\n",
              "        vertical-align: top;\n",
              "    }\n",
              "\n",
              "    .dataframe thead th {\n",
              "        text-align: right;\n",
              "    }\n",
              "</style>\n",
              "<table border=\"1\" class=\"dataframe\">\n",
              "  <thead>\n",
              "    <tr style=\"text-align: right;\">\n",
              "      <th></th>\n",
              "      <th>X</th>\n",
              "      <th>v467c</th>\n",
              "      <th>hv204</th>\n",
              "      <th>hv206</th>\n",
              "      <th>hv207</th>\n",
              "      <th>hv208</th>\n",
              "      <th>hv209</th>\n",
              "      <th>hv210</th>\n",
              "      <th>hv211</th>\n",
              "      <th>hv212</th>\n",
              "      <th>hv216</th>\n",
              "      <th>hv225</th>\n",
              "      <th>hv227</th>\n",
              "      <th>hv243a</th>\n",
              "      <th>hml1</th>\n",
              "      <th>Annual_Precipitation_2015</th>\n",
              "      <th>Aridity_2015</th>\n",
              "      <th>Day_Land_Surface_Temp_2015</th>\n",
              "      <th>Diurnal_Temperature_Range_2015</th>\n",
              "      <th>Enhanced_Vegetation_Index_2015</th>\n",
              "      <th>Global_Human_Footprint</th>\n",
              "      <th>Growing_Season_Length</th>\n",
              "      <th>Irrigation</th>\n",
              "      <th>Land_Surface_Temperature_2015</th>\n",
              "      <th>ITN_Coverage_2015</th>\n",
              "      <th>Mean_Temperature_2015</th>\n",
              "      <th>Nightlights_Composite</th>\n",
              "      <th>Night_Land_Surface_Temp_2015</th>\n",
              "      <th>PET_2015</th>\n",
              "      <th>Proximity_to_National_Borders</th>\n",
              "      <th>Proximity_to_Protected_Areas</th>\n",
              "      <th>Proximity_to_Water</th>\n",
              "      <th>Rainfall_2015</th>\n",
              "      <th>Travel_Times_2015</th>\n",
              "      <th>UN_Population_Density_2015</th>\n",
              "      <th>Wet_Days_2015</th>\n",
              "      <th>smoke</th>\n",
              "      <th>washhands</th>\n",
              "    </tr>\n",
              "  </thead>\n",
              "  <tbody>\n",
              "    <tr>\n",
              "      <th>2</th>\n",
              "      <td>2</td>\n",
              "      <td>0</td>\n",
              "      <td>8</td>\n",
              "      <td>1</td>\n",
              "      <td>1</td>\n",
              "      <td>0</td>\n",
              "      <td>0</td>\n",
              "      <td>1</td>\n",
              "      <td>0</td>\n",
              "      <td>0</td>\n",
              "      <td>1</td>\n",
              "      <td>1</td>\n",
              "      <td>0</td>\n",
              "      <td>1</td>\n",
              "      <td>0</td>\n",
              "      <td>113.26667</td>\n",
              "      <td>37.34066</td>\n",
              "      <td>27.762</td>\n",
              "      <td>11.483334</td>\n",
              "      <td>3437.9</td>\n",
              "      <td>35.081967</td>\n",
              "      <td>11</td>\n",
              "      <td>4.100386</td>\n",
              "      <td>21.684416</td>\n",
              "      <td>0.769893</td>\n",
              "      <td>20.016666</td>\n",
              "      <td>0.071708</td>\n",
              "      <td>15.606833</td>\n",
              "      <td>3.033333</td>\n",
              "      <td>24138.48699</td>\n",
              "      <td>31082.39329</td>\n",
              "      <td>35146.8477</td>\n",
              "      <td>1145.909091</td>\n",
              "      <td>43.120219</td>\n",
              "      <td>581.704064</td>\n",
              "      <td>15.180833</td>\n",
              "      <td>1</td>\n",
              "      <td>1</td>\n",
              "    </tr>\n",
              "    <tr>\n",
              "      <th>3</th>\n",
              "      <td>3</td>\n",
              "      <td>0</td>\n",
              "      <td>8</td>\n",
              "      <td>1</td>\n",
              "      <td>1</td>\n",
              "      <td>0</td>\n",
              "      <td>0</td>\n",
              "      <td>1</td>\n",
              "      <td>0</td>\n",
              "      <td>0</td>\n",
              "      <td>1</td>\n",
              "      <td>1</td>\n",
              "      <td>0</td>\n",
              "      <td>1</td>\n",
              "      <td>0</td>\n",
              "      <td>113.26667</td>\n",
              "      <td>37.34066</td>\n",
              "      <td>27.762</td>\n",
              "      <td>11.483334</td>\n",
              "      <td>3437.9</td>\n",
              "      <td>35.081967</td>\n",
              "      <td>11</td>\n",
              "      <td>4.100386</td>\n",
              "      <td>21.684416</td>\n",
              "      <td>0.769893</td>\n",
              "      <td>20.016666</td>\n",
              "      <td>0.071708</td>\n",
              "      <td>15.606833</td>\n",
              "      <td>3.033333</td>\n",
              "      <td>24138.48699</td>\n",
              "      <td>31082.39329</td>\n",
              "      <td>35146.8477</td>\n",
              "      <td>1145.909091</td>\n",
              "      <td>43.120219</td>\n",
              "      <td>581.704064</td>\n",
              "      <td>15.180833</td>\n",
              "      <td>1</td>\n",
              "      <td>1</td>\n",
              "    </tr>\n",
              "    <tr>\n",
              "      <th>4</th>\n",
              "      <td>4</td>\n",
              "      <td>0</td>\n",
              "      <td>8</td>\n",
              "      <td>1</td>\n",
              "      <td>1</td>\n",
              "      <td>0</td>\n",
              "      <td>0</td>\n",
              "      <td>1</td>\n",
              "      <td>0</td>\n",
              "      <td>0</td>\n",
              "      <td>1</td>\n",
              "      <td>1</td>\n",
              "      <td>0</td>\n",
              "      <td>1</td>\n",
              "      <td>0</td>\n",
              "      <td>113.26667</td>\n",
              "      <td>37.34066</td>\n",
              "      <td>27.762</td>\n",
              "      <td>11.483334</td>\n",
              "      <td>3437.9</td>\n",
              "      <td>35.081967</td>\n",
              "      <td>11</td>\n",
              "      <td>4.100386</td>\n",
              "      <td>21.684416</td>\n",
              "      <td>0.769893</td>\n",
              "      <td>20.016666</td>\n",
              "      <td>0.071708</td>\n",
              "      <td>15.606833</td>\n",
              "      <td>3.033333</td>\n",
              "      <td>24138.48699</td>\n",
              "      <td>31082.39329</td>\n",
              "      <td>35146.8477</td>\n",
              "      <td>1145.909091</td>\n",
              "      <td>43.120219</td>\n",
              "      <td>581.704064</td>\n",
              "      <td>15.180833</td>\n",
              "      <td>1</td>\n",
              "      <td>1</td>\n",
              "    </tr>\n",
              "    <tr>\n",
              "      <th>5</th>\n",
              "      <td>5</td>\n",
              "      <td>0</td>\n",
              "      <td>8</td>\n",
              "      <td>1</td>\n",
              "      <td>1</td>\n",
              "      <td>0</td>\n",
              "      <td>0</td>\n",
              "      <td>1</td>\n",
              "      <td>0</td>\n",
              "      <td>0</td>\n",
              "      <td>1</td>\n",
              "      <td>1</td>\n",
              "      <td>0</td>\n",
              "      <td>1</td>\n",
              "      <td>0</td>\n",
              "      <td>113.26667</td>\n",
              "      <td>37.34066</td>\n",
              "      <td>27.762</td>\n",
              "      <td>11.483334</td>\n",
              "      <td>3437.9</td>\n",
              "      <td>35.081967</td>\n",
              "      <td>11</td>\n",
              "      <td>4.100386</td>\n",
              "      <td>21.684416</td>\n",
              "      <td>0.769893</td>\n",
              "      <td>20.016666</td>\n",
              "      <td>0.071708</td>\n",
              "      <td>15.606833</td>\n",
              "      <td>3.033333</td>\n",
              "      <td>24138.48699</td>\n",
              "      <td>31082.39329</td>\n",
              "      <td>35146.8477</td>\n",
              "      <td>1145.909091</td>\n",
              "      <td>43.120219</td>\n",
              "      <td>581.704064</td>\n",
              "      <td>15.180833</td>\n",
              "      <td>1</td>\n",
              "      <td>1</td>\n",
              "    </tr>\n",
              "    <tr>\n",
              "      <th>12</th>\n",
              "      <td>12</td>\n",
              "      <td>0</td>\n",
              "      <td>30</td>\n",
              "      <td>0</td>\n",
              "      <td>1</td>\n",
              "      <td>0</td>\n",
              "      <td>0</td>\n",
              "      <td>1</td>\n",
              "      <td>0</td>\n",
              "      <td>0</td>\n",
              "      <td>1</td>\n",
              "      <td>0</td>\n",
              "      <td>1</td>\n",
              "      <td>1</td>\n",
              "      <td>2</td>\n",
              "      <td>113.26667</td>\n",
              "      <td>37.34066</td>\n",
              "      <td>27.762</td>\n",
              "      <td>11.483334</td>\n",
              "      <td>3437.9</td>\n",
              "      <td>35.081967</td>\n",
              "      <td>11</td>\n",
              "      <td>4.100386</td>\n",
              "      <td>21.684416</td>\n",
              "      <td>0.769893</td>\n",
              "      <td>20.016666</td>\n",
              "      <td>0.071708</td>\n",
              "      <td>15.606833</td>\n",
              "      <td>3.033333</td>\n",
              "      <td>24138.48699</td>\n",
              "      <td>31082.39329</td>\n",
              "      <td>35146.8477</td>\n",
              "      <td>1145.909091</td>\n",
              "      <td>43.120219</td>\n",
              "      <td>581.704064</td>\n",
              "      <td>15.180833</td>\n",
              "      <td>1</td>\n",
              "      <td>0</td>\n",
              "    </tr>\n",
              "  </tbody>\n",
              "</table>\n",
              "</div>"
            ],
            "text/plain": [
              "     X  v467c  hv204  ...  Wet_Days_2015  smoke  washhands\n",
              "2    2      0      8  ...      15.180833      1          1\n",
              "3    3      0      8  ...      15.180833      1          1\n",
              "4    4      0      8  ...      15.180833      1          1\n",
              "5    5      0      8  ...      15.180833      1          1\n",
              "12  12      0     30  ...      15.180833      1          0\n",
              "\n",
              "[5 rows x 38 columns]"
            ]
          },
          "metadata": {
            "tags": []
          },
          "execution_count": 12
        }
      ]
    },
    {
      "cell_type": "code",
      "metadata": {
        "colab": {
          "base_uri": "https://localhost:8080/"
        },
        "id": "PdvrEFZ_197i",
        "outputId": "d18763db-cc7c-46c9-c5fd-38b53422efeb"
      },
      "source": [
        "df.info()"
      ],
      "execution_count": 13,
      "outputs": [
        {
          "output_type": "stream",
          "text": [
            "<class 'pandas.core.frame.DataFrame'>\n",
            "Int64Index: 44988 entries, 2 to 44987\n",
            "Data columns (total 38 columns):\n",
            " #   Column                          Non-Null Count  Dtype  \n",
            "---  ------                          --------------  -----  \n",
            " 0   X                               44988 non-null  int64  \n",
            " 1   v467c                           44988 non-null  int64  \n",
            " 2   hv204                           44988 non-null  int64  \n",
            " 3   hv206                           44988 non-null  int64  \n",
            " 4   hv207                           44988 non-null  int64  \n",
            " 5   hv208                           44988 non-null  int64  \n",
            " 6   hv209                           44988 non-null  int64  \n",
            " 7   hv210                           44988 non-null  int64  \n",
            " 8   hv211                           44988 non-null  int64  \n",
            " 9   hv212                           44988 non-null  int64  \n",
            " 10  hv216                           44988 non-null  int64  \n",
            " 11  hv225                           44988 non-null  int64  \n",
            " 12  hv227                           44988 non-null  int64  \n",
            " 13  hv243a                          44988 non-null  int64  \n",
            " 14  hml1                            44988 non-null  int64  \n",
            " 15  Annual_Precipitation_2015       44988 non-null  float64\n",
            " 16  Aridity_2015                    44988 non-null  float64\n",
            " 17  Day_Land_Surface_Temp_2015      44988 non-null  float64\n",
            " 18  Diurnal_Temperature_Range_2015  44988 non-null  float64\n",
            " 19  Enhanced_Vegetation_Index_2015  44988 non-null  float64\n",
            " 20  Global_Human_Footprint          44988 non-null  float64\n",
            " 21  Growing_Season_Length           44988 non-null  int64  \n",
            " 22  Irrigation                      44988 non-null  float64\n",
            " 23  Land_Surface_Temperature_2015   44988 non-null  float64\n",
            " 24  ITN_Coverage_2015               44988 non-null  float64\n",
            " 25  Mean_Temperature_2015           44988 non-null  float64\n",
            " 26  Nightlights_Composite           44988 non-null  float64\n",
            " 27  Night_Land_Surface_Temp_2015    44988 non-null  float64\n",
            " 28  PET_2015                        44988 non-null  float64\n",
            " 29  Proximity_to_National_Borders   44988 non-null  float64\n",
            " 30  Proximity_to_Protected_Areas    44988 non-null  float64\n",
            " 31  Proximity_to_Water              44988 non-null  float64\n",
            " 32  Rainfall_2015                   44988 non-null  float64\n",
            " 33  Travel_Times_2015               44988 non-null  float64\n",
            " 34  UN_Population_Density_2015      44988 non-null  float64\n",
            " 35  Wet_Days_2015                   44988 non-null  float64\n",
            " 36  smoke                           44988 non-null  int64  \n",
            " 37  washhands                       44988 non-null  int64  \n",
            "dtypes: float64(20), int64(18)\n",
            "memory usage: 13.4 MB\n"
          ],
          "name": "stdout"
        }
      ]
    },
    {
      "cell_type": "code",
      "metadata": {
        "colab": {
          "base_uri": "https://localhost:8080/"
        },
        "id": "V9f-qLUK2B3D",
        "outputId": "10009a34-51fe-45b4-bea8-411656f77800"
      },
      "source": [
        "df[\"Nightlights_Composite\"].value_counts()"
      ],
      "execution_count": 14,
      "outputs": [
        {
          "output_type": "execute_result",
          "data": {
            "text/plain": [
              "0.000000     902\n",
              "0.001757     235\n",
              "0.588546     221\n",
              "0.002052     204\n",
              "0.001847     190\n",
              "            ... \n",
              "0.033270      40\n",
              "0.000222      38\n",
              "16.558868     33\n",
              "0.003979      29\n",
              "10.089374     28\n",
              "Name: Nightlights_Composite, Length: 480, dtype: int64"
            ]
          },
          "metadata": {
            "tags": []
          },
          "execution_count": 14
        }
      ]
    },
    {
      "cell_type": "code",
      "metadata": {
        "colab": {
          "base_uri": "https://localhost:8080/",
          "height": 317
        },
        "id": "pqvZLmyb2DwY",
        "outputId": "cea4ea37-fc6f-4aa0-a1f8-bf59f935a4e9"
      },
      "source": [
        "df.describe()"
      ],
      "execution_count": 15,
      "outputs": [
        {
          "output_type": "execute_result",
          "data": {
            "text/html": [
              "<div>\n",
              "<style scoped>\n",
              "    .dataframe tbody tr th:only-of-type {\n",
              "        vertical-align: middle;\n",
              "    }\n",
              "\n",
              "    .dataframe tbody tr th {\n",
              "        vertical-align: top;\n",
              "    }\n",
              "\n",
              "    .dataframe thead th {\n",
              "        text-align: right;\n",
              "    }\n",
              "</style>\n",
              "<table border=\"1\" class=\"dataframe\">\n",
              "  <thead>\n",
              "    <tr style=\"text-align: right;\">\n",
              "      <th></th>\n",
              "      <th>X</th>\n",
              "      <th>v467c</th>\n",
              "      <th>hv204</th>\n",
              "      <th>hv206</th>\n",
              "      <th>hv207</th>\n",
              "      <th>hv208</th>\n",
              "      <th>hv209</th>\n",
              "      <th>hv210</th>\n",
              "      <th>hv211</th>\n",
              "      <th>hv212</th>\n",
              "      <th>hv216</th>\n",
              "      <th>hv225</th>\n",
              "      <th>hv227</th>\n",
              "      <th>hv243a</th>\n",
              "      <th>hml1</th>\n",
              "      <th>Annual_Precipitation_2015</th>\n",
              "      <th>Aridity_2015</th>\n",
              "      <th>Day_Land_Surface_Temp_2015</th>\n",
              "      <th>Diurnal_Temperature_Range_2015</th>\n",
              "      <th>Enhanced_Vegetation_Index_2015</th>\n",
              "      <th>Global_Human_Footprint</th>\n",
              "      <th>Growing_Season_Length</th>\n",
              "      <th>Irrigation</th>\n",
              "      <th>Land_Surface_Temperature_2015</th>\n",
              "      <th>ITN_Coverage_2015</th>\n",
              "      <th>Mean_Temperature_2015</th>\n",
              "      <th>Nightlights_Composite</th>\n",
              "      <th>Night_Land_Surface_Temp_2015</th>\n",
              "      <th>PET_2015</th>\n",
              "      <th>Proximity_to_National_Borders</th>\n",
              "      <th>Proximity_to_Protected_Areas</th>\n",
              "      <th>Proximity_to_Water</th>\n",
              "      <th>Rainfall_2015</th>\n",
              "      <th>Travel_Times_2015</th>\n",
              "      <th>UN_Population_Density_2015</th>\n",
              "      <th>Wet_Days_2015</th>\n",
              "      <th>smoke</th>\n",
              "      <th>washhands</th>\n",
              "    </tr>\n",
              "  </thead>\n",
              "  <tbody>\n",
              "    <tr>\n",
              "      <th>count</th>\n",
              "      <td>44988.000000</td>\n",
              "      <td>44988.000000</td>\n",
              "      <td>44988.000000</td>\n",
              "      <td>44988.000000</td>\n",
              "      <td>44988.000000</td>\n",
              "      <td>44988.000000</td>\n",
              "      <td>44988.000000</td>\n",
              "      <td>44988.000000</td>\n",
              "      <td>44988.000000</td>\n",
              "      <td>44988.000000</td>\n",
              "      <td>44988.00000</td>\n",
              "      <td>44988.000000</td>\n",
              "      <td>44988.000000</td>\n",
              "      <td>44988.000000</td>\n",
              "      <td>44988.000000</td>\n",
              "      <td>44988.000000</td>\n",
              "      <td>44988.000000</td>\n",
              "      <td>44988.000000</td>\n",
              "      <td>44988.000000</td>\n",
              "      <td>44988.000000</td>\n",
              "      <td>44988.000000</td>\n",
              "      <td>44988.000000</td>\n",
              "      <td>44988.000000</td>\n",
              "      <td>44988.000000</td>\n",
              "      <td>44988.000000</td>\n",
              "      <td>44988.000000</td>\n",
              "      <td>44988.000000</td>\n",
              "      <td>44988.000000</td>\n",
              "      <td>44988.000000</td>\n",
              "      <td>44988.000000</td>\n",
              "      <td>44988.000000</td>\n",
              "      <td>44988.000000</td>\n",
              "      <td>44988.000000</td>\n",
              "      <td>44988.000000</td>\n",
              "      <td>44988.000000</td>\n",
              "      <td>44988.000000</td>\n",
              "      <td>44988.000000</td>\n",
              "      <td>44988.000000</td>\n",
              "    </tr>\n",
              "    <tr>\n",
              "      <th>mean</th>\n",
              "      <td>22494.500000</td>\n",
              "      <td>0.517783</td>\n",
              "      <td>162.658620</td>\n",
              "      <td>0.268516</td>\n",
              "      <td>0.580799</td>\n",
              "      <td>0.151396</td>\n",
              "      <td>0.029341</td>\n",
              "      <td>0.168556</td>\n",
              "      <td>0.022384</td>\n",
              "      <td>0.025918</td>\n",
              "      <td>2.52783</td>\n",
              "      <td>0.167867</td>\n",
              "      <td>0.839290</td>\n",
              "      <td>0.670223</td>\n",
              "      <td>2.006691</td>\n",
              "      <td>118.239987</td>\n",
              "      <td>41.891169</td>\n",
              "      <td>26.863194</td>\n",
              "      <td>11.609315</td>\n",
              "      <td>3507.509932</td>\n",
              "      <td>35.470266</td>\n",
              "      <td>11.923891</td>\n",
              "      <td>0.458516</td>\n",
              "      <td>20.762630</td>\n",
              "      <td>-850.374606</td>\n",
              "      <td>19.298715</td>\n",
              "      <td>1.025445</td>\n",
              "      <td>14.662066</td>\n",
              "      <td>2.857777</td>\n",
              "      <td>23680.332020</td>\n",
              "      <td>29972.461377</td>\n",
              "      <td>23374.102287</td>\n",
              "      <td>1078.388691</td>\n",
              "      <td>37.404914</td>\n",
              "      <td>1127.388953</td>\n",
              "      <td>16.212796</td>\n",
              "      <td>0.819685</td>\n",
              "      <td>0.128123</td>\n",
              "    </tr>\n",
              "    <tr>\n",
              "      <th>std</th>\n",
              "      <td>12987.061292</td>\n",
              "      <td>0.499689</td>\n",
              "      <td>327.793449</td>\n",
              "      <td>0.443192</td>\n",
              "      <td>0.493434</td>\n",
              "      <td>0.358438</td>\n",
              "      <td>0.168763</td>\n",
              "      <td>0.374363</td>\n",
              "      <td>0.147930</td>\n",
              "      <td>0.158893</td>\n",
              "      <td>1.03981</td>\n",
              "      <td>0.373752</td>\n",
              "      <td>0.367267</td>\n",
              "      <td>0.470137</td>\n",
              "      <td>1.368400</td>\n",
              "      <td>21.126897</td>\n",
              "      <td>9.565156</td>\n",
              "      <td>3.180416</td>\n",
              "      <td>0.592155</td>\n",
              "      <td>506.332939</td>\n",
              "      <td>7.571890</td>\n",
              "      <td>1.139301</td>\n",
              "      <td>1.243068</td>\n",
              "      <td>2.774265</td>\n",
              "      <td>2790.428815</td>\n",
              "      <td>1.388702</td>\n",
              "      <td>3.216832</td>\n",
              "      <td>2.526850</td>\n",
              "      <td>0.183175</td>\n",
              "      <td>14561.540236</td>\n",
              "      <td>19104.858188</td>\n",
              "      <td>13770.484973</td>\n",
              "      <td>216.128756</td>\n",
              "      <td>28.398749</td>\n",
              "      <td>1759.374216</td>\n",
              "      <td>0.619992</td>\n",
              "      <td>0.384454</td>\n",
              "      <td>0.334230</td>\n",
              "    </tr>\n",
              "    <tr>\n",
              "      <th>min</th>\n",
              "      <td>1.000000</td>\n",
              "      <td>0.000000</td>\n",
              "      <td>1.000000</td>\n",
              "      <td>0.000000</td>\n",
              "      <td>0.000000</td>\n",
              "      <td>0.000000</td>\n",
              "      <td>0.000000</td>\n",
              "      <td>0.000000</td>\n",
              "      <td>0.000000</td>\n",
              "      <td>0.000000</td>\n",
              "      <td>0.00000</td>\n",
              "      <td>0.000000</td>\n",
              "      <td>0.000000</td>\n",
              "      <td>0.000000</td>\n",
              "      <td>0.000000</td>\n",
              "      <td>86.991669</td>\n",
              "      <td>28.202631</td>\n",
              "      <td>17.756668</td>\n",
              "      <td>10.050000</td>\n",
              "      <td>105.000000</td>\n",
              "      <td>19.472527</td>\n",
              "      <td>10.000000</td>\n",
              "      <td>0.000000</td>\n",
              "      <td>11.814999</td>\n",
              "      <td>-9999.000000</td>\n",
              "      <td>16.708334</td>\n",
              "      <td>0.000000</td>\n",
              "      <td>5.873333</td>\n",
              "      <td>2.450000</td>\n",
              "      <td>225.643966</td>\n",
              "      <td>0.000000</td>\n",
              "      <td>0.000000</td>\n",
              "      <td>740.600000</td>\n",
              "      <td>0.000000</td>\n",
              "      <td>145.523895</td>\n",
              "      <td>15.180833</td>\n",
              "      <td>0.000000</td>\n",
              "      <td>0.000000</td>\n",
              "    </tr>\n",
              "    <tr>\n",
              "      <th>25%</th>\n",
              "      <td>11247.750000</td>\n",
              "      <td>0.000000</td>\n",
              "      <td>15.000000</td>\n",
              "      <td>0.000000</td>\n",
              "      <td>0.000000</td>\n",
              "      <td>0.000000</td>\n",
              "      <td>0.000000</td>\n",
              "      <td>0.000000</td>\n",
              "      <td>0.000000</td>\n",
              "      <td>0.000000</td>\n",
              "      <td>2.00000</td>\n",
              "      <td>0.000000</td>\n",
              "      <td>1.000000</td>\n",
              "      <td>0.000000</td>\n",
              "      <td>1.000000</td>\n",
              "      <td>101.383331</td>\n",
              "      <td>35.060516</td>\n",
              "      <td>24.252667</td>\n",
              "      <td>11.283334</td>\n",
              "      <td>3400.600000</td>\n",
              "      <td>30.915301</td>\n",
              "      <td>11.000000</td>\n",
              "      <td>0.000000</td>\n",
              "      <td>18.686667</td>\n",
              "      <td>0.659441</td>\n",
              "      <td>18.025000</td>\n",
              "      <td>0.007588</td>\n",
              "      <td>13.289722</td>\n",
              "      <td>2.691667</td>\n",
              "      <td>10862.760050</td>\n",
              "      <td>13068.324810</td>\n",
              "      <td>12557.675680</td>\n",
              "      <td>875.200000</td>\n",
              "      <td>15.357143</td>\n",
              "      <td>458.852473</td>\n",
              "      <td>15.849167</td>\n",
              "      <td>1.000000</td>\n",
              "      <td>0.000000</td>\n",
              "    </tr>\n",
              "    <tr>\n",
              "      <th>50%</th>\n",
              "      <td>22494.500000</td>\n",
              "      <td>1.000000</td>\n",
              "      <td>30.000000</td>\n",
              "      <td>0.000000</td>\n",
              "      <td>1.000000</td>\n",
              "      <td>0.000000</td>\n",
              "      <td>0.000000</td>\n",
              "      <td>0.000000</td>\n",
              "      <td>0.000000</td>\n",
              "      <td>0.000000</td>\n",
              "      <td>2.00000</td>\n",
              "      <td>0.000000</td>\n",
              "      <td>1.000000</td>\n",
              "      <td>1.000000</td>\n",
              "      <td>2.000000</td>\n",
              "      <td>121.599999</td>\n",
              "      <td>41.104225</td>\n",
              "      <td>27.553148</td>\n",
              "      <td>11.558333</td>\n",
              "      <td>3612.250000</td>\n",
              "      <td>34.115242</td>\n",
              "      <td>12.000000</td>\n",
              "      <td>0.000000</td>\n",
              "      <td>21.661482</td>\n",
              "      <td>0.725645</td>\n",
              "      <td>19.666668</td>\n",
              "      <td>0.027689</td>\n",
              "      <td>15.671167</td>\n",
              "      <td>2.891667</td>\n",
              "      <td>22674.780890</td>\n",
              "      <td>28938.692330</td>\n",
              "      <td>23393.676430</td>\n",
              "      <td>1051.400000</td>\n",
              "      <td>34.498630</td>\n",
              "      <td>553.622628</td>\n",
              "      <td>16.532499</td>\n",
              "      <td>1.000000</td>\n",
              "      <td>0.000000</td>\n",
              "    </tr>\n",
              "    <tr>\n",
              "      <th>75%</th>\n",
              "      <td>33741.250000</td>\n",
              "      <td>1.000000</td>\n",
              "      <td>60.000000</td>\n",
              "      <td>1.000000</td>\n",
              "      <td>1.000000</td>\n",
              "      <td>0.000000</td>\n",
              "      <td>0.000000</td>\n",
              "      <td>0.000000</td>\n",
              "      <td>0.000000</td>\n",
              "      <td>0.000000</td>\n",
              "      <td>3.00000</td>\n",
              "      <td>0.000000</td>\n",
              "      <td>1.000000</td>\n",
              "      <td>1.000000</td>\n",
              "      <td>3.000000</td>\n",
              "      <td>133.483337</td>\n",
              "      <td>50.529968</td>\n",
              "      <td>29.392965</td>\n",
              "      <td>12.191667</td>\n",
              "      <td>3803.666667</td>\n",
              "      <td>38.260163</td>\n",
              "      <td>13.000000</td>\n",
              "      <td>0.217546</td>\n",
              "      <td>22.945910</td>\n",
              "      <td>0.765263</td>\n",
              "      <td>20.016666</td>\n",
              "      <td>0.170089</td>\n",
              "      <td>16.486666</td>\n",
              "      <td>3.000000</td>\n",
              "      <td>37382.571370</td>\n",
              "      <td>46502.618000</td>\n",
              "      <td>32385.721920</td>\n",
              "      <td>1237.416667</td>\n",
              "      <td>53.297521</td>\n",
              "      <td>748.146228</td>\n",
              "      <td>16.561666</td>\n",
              "      <td>1.000000</td>\n",
              "      <td>0.000000</td>\n",
              "    </tr>\n",
              "    <tr>\n",
              "      <th>max</th>\n",
              "      <td>44988.000000</td>\n",
              "      <td>1.000000</td>\n",
              "      <td>998.000000</td>\n",
              "      <td>1.000000</td>\n",
              "      <td>1.000000</td>\n",
              "      <td>1.000000</td>\n",
              "      <td>1.000000</td>\n",
              "      <td>1.000000</td>\n",
              "      <td>1.000000</td>\n",
              "      <td>1.000000</td>\n",
              "      <td>22.00000</td>\n",
              "      <td>1.000000</td>\n",
              "      <td>1.000000</td>\n",
              "      <td>1.000000</td>\n",
              "      <td>7.000000</td>\n",
              "      <td>153.533341</td>\n",
              "      <td>56.864197</td>\n",
              "      <td>32.941666</td>\n",
              "      <td>12.875000</td>\n",
              "      <td>4385.000000</td>\n",
              "      <td>64.142857</td>\n",
              "      <td>14.000000</td>\n",
              "      <td>10.966730</td>\n",
              "      <td>24.839167</td>\n",
              "      <td>0.870800</td>\n",
              "      <td>21.575001</td>\n",
              "      <td>21.800807</td>\n",
              "      <td>18.346666</td>\n",
              "      <td>3.166667</td>\n",
              "      <td>55444.901540</td>\n",
              "      <td>71428.815020</td>\n",
              "      <td>65493.432620</td>\n",
              "      <td>1621.000000</td>\n",
              "      <td>175.811475</td>\n",
              "      <td>10562.064580</td>\n",
              "      <td>17.305834</td>\n",
              "      <td>1.000000</td>\n",
              "      <td>1.000000</td>\n",
              "    </tr>\n",
              "  </tbody>\n",
              "</table>\n",
              "</div>"
            ],
            "text/plain": [
              "                  X         v467c  ...         smoke     washhands\n",
              "count  44988.000000  44988.000000  ...  44988.000000  44988.000000\n",
              "mean   22494.500000      0.517783  ...      0.819685      0.128123\n",
              "std    12987.061292      0.499689  ...      0.384454      0.334230\n",
              "min        1.000000      0.000000  ...      0.000000      0.000000\n",
              "25%    11247.750000      0.000000  ...      1.000000      0.000000\n",
              "50%    22494.500000      1.000000  ...      1.000000      0.000000\n",
              "75%    33741.250000      1.000000  ...      1.000000      0.000000\n",
              "max    44988.000000      1.000000  ...      1.000000      1.000000\n",
              "\n",
              "[8 rows x 38 columns]"
            ]
          },
          "metadata": {
            "tags": []
          },
          "execution_count": 15
        }
      ]
    },
    {
      "cell_type": "code",
      "metadata": {
        "colab": {
          "base_uri": "https://localhost:8080/",
          "height": 470
        },
        "id": "ro1PwHDQ2GBX",
        "outputId": "c2269482-de03-4132-bf7a-1b1e8f5939b5"
      },
      "source": [
        "%matplotlib inline\n",
        "import matplotlib.pyplot as plt\n",
        "df.hist(bins=50, figsize=(20,15))\n",
        "plt.show()"
      ],
      "execution_count": 16,
      "outputs": [
        {
          "output_type": "display_data",
          "data": {
            "image/png": "[encoded data removed]",
            "text/plain": [
              "<Figure size 1440x1080 with 42 Axes>"
            ]
          },
          "metadata": {
            "tags": [],
            "needs_background": "light"
          }
        }
      ]
    },
    {
      "cell_type": "code",
      "metadata": {
        "id": "8jLvxtVF2VOp"
      },
      "source": [
        "df.rename(columns={\"Nightlights_Composite\": \"NL\"}, inplace=True)\n"
      ],
      "execution_count": 18,
      "outputs": []
    },
    {
      "cell_type": "code",
      "metadata": {
        "id": "_oZtegts3DWl"
      },
      "source": [
        "df = df.dropna()\n"
      ],
      "execution_count": 19,
      "outputs": []
    },
    {
      "cell_type": "code",
      "metadata": {
        "colab": {
          "base_uri": "https://localhost:8080/"
        },
        "id": "i-JaZrc33aHY",
        "outputId": "93205081-07a0-4f5f-8229-3ae49a9959b8"
      },
      "source": [
        "X = df['NL'].values.reshape (-1, 1) #reshape to get a one-dimensional column array\n",
        "y = df['v467c'].values.reshape (-1, 1)#reshape to get a one-dimensional column array\n",
        "\n",
        "X.shape"
      ],
      "execution_count": 20,
      "outputs": [
        {
          "output_type": "execute_result",
          "data": {
            "text/plain": [
              "(44988, 1)"
            ]
          },
          "metadata": {
            "tags": []
          },
          "execution_count": 20
        }
      ]
    },
    {
      "cell_type": "markdown",
      "metadata": {
        "id": "UhWJqXgP3jpN"
      },
      "source": [
        "**splitting the data**"
      ]
    },
    {
      "cell_type": "code",
      "metadata": {
        "id": "AAsimmAl3uaj"
      },
      "source": [
        "from sklearn.model_selection import train_test_split\n",
        "\n",
        "X_train, X_test, y_train, y_test = train_test_split(X, y, test_size=0.2, random_state=42)"
      ],
      "execution_count": 21,
      "outputs": []
    },
    {
      "cell_type": "markdown",
      "metadata": {
        "id": "aiYYcnGg33UZ"
      },
      "source": [
        "**getting a baseline**"
      ]
    },
    {
      "cell_type": "code",
      "metadata": {
        "id": "MQE4CcEa30ZV"
      },
      "source": [
        "from sklearn.preprocessing import StandardScaler\n",
        "\n",
        "scaler = StandardScaler()\n",
        "X_train_scaled = scaler.fit_transform(X_train)\n",
        "X_test_scaled = scaler.transform(X_test)"
      ],
      "execution_count": 35,
      "outputs": []
    },
    {
      "cell_type": "code",
      "metadata": {
        "colab": {
          "base_uri": "https://localhost:8080/"
        },
        "id": "hYF5S_eW4ovw",
        "outputId": "a0190281-ac2e-4c92-8c96-df82bdc303ad"
      },
      "source": [
        "lr = LogisticRegression(C = 0.1, solver = 'liblinear')\n",
        "lr.fit(X_train_scaled,y_train)\n",
        "\n",
        "print(cl(lr, attrs = ['bold']))"
      ],
      "execution_count": 36,
      "outputs": [
        {
          "output_type": "stream",
          "text": [
            "\u001b[1mLogisticRegression(C=0.1, class_weight=None, dual=False, fit_intercept=True,\n",
            "                   intercept_scaling=1, l1_ratio=None, max_iter=100,\n",
            "                   multi_class='auto', n_jobs=None, penalty='l2',\n",
            "                   random_state=None, solver='liblinear', tol=0.0001, verbose=0,\n",
            "                   warm_start=False)\u001b[0m\n"
          ],
          "name": "stdout"
        },
        {
          "output_type": "stream",
          "text": [
            "/usr/local/lib/python3.7/dist-packages/sklearn/utils/validation.py:760: DataConversionWarning: A column-vector y was passed when a 1d array was expected. Please change the shape of y to (n_samples, ), for example using ravel().\n",
            "  y = column_or_1d(y, warn=True)\n"
          ],
          "name": "stderr"
        }
      ]
    },
    {
      "cell_type": "markdown",
      "metadata": {
        "id": "V4JfJ9qj46d-"
      },
      "source": [
        "**predictions**"
      ]
    },
    {
      "cell_type": "code",
      "metadata": {
        "colab": {
          "base_uri": "https://localhost:8080/"
        },
        "id": "DaCEhao945nD",
        "outputId": "ba504b7f-61ce-4702-ec4e-de39d65b8353"
      },
      "source": [
        "yhat = lr.predict(X_test_scaled)\n",
        "yhat_prob = lr.predict_proba(X_test_scaled)\n",
        "\n",
        "print(cl('yhat samples : ', attrs = ['bold']), yhat[:10])\n",
        "print(cl('yhat_prob samples : ', attrs = ['bold']), yhat_prob[:10])"
      ],
      "execution_count": 37,
      "outputs": [
        {
          "output_type": "stream",
          "text": [
            "\u001b[1myhat samples : \u001b[0m [1 1 1 1 0 1 1 1 1 1]\n",
            "\u001b[1myhat_prob samples : \u001b[0m [[0.47 0.53]\n",
            " [0.47 0.53]\n",
            " [0.47 0.53]\n",
            " [0.47 0.53]\n",
            " [0.51 0.49]\n",
            " [0.47 0.53]\n",
            " [0.47 0.53]\n",
            " [0.47 0.53]\n",
            " [0.47 0.53]\n",
            " [0.47 0.53]]\n"
          ],
          "name": "stdout"
        }
      ]
    },
    {
      "cell_type": "markdown",
      "metadata": {
        "id": "JyD18Y8i5LAB"
      },
      "source": [
        "In the above code, ‘predict_proba’ returns estimates for all classes, ordered by the label of classes. So, the first column is the probability of class 1, P(Y=1|X), and the second column is the probability of class 0, P(Y=0|X)."
      ]
    },
    {
      "cell_type": "code",
      "metadata": {
        "colab": {
          "base_uri": "https://localhost:8080/"
        },
        "id": "TiZSyy665a5z",
        "outputId": "3c0f325f-8fd7-4a48-b186-b4d884b09de6"
      },
      "source": [
        "# 1. Jaccard Index\n",
        "print(cl('Jaccard Similarity Score of our model is {}'.format(jss(y_test, yhat).round(2)), attrs = ['bold']))\n"
      ],
      "execution_count": 38,
      "outputs": [
        {
          "output_type": "stream",
          "text": [
            "\u001b[1mJaccard Similarity Score of our model is 0.55\u001b[0m\n"
          ],
          "name": "stdout"
        },
        {
          "output_type": "stream",
          "text": [
            "/usr/local/lib/python3.7/dist-packages/sklearn/metrics/_classification.py:664: FutureWarning: jaccard_similarity_score has been deprecated and replaced with jaccard_score. It will be removed in version 0.23. This implementation has surprising behavior for binary and multiclass classification tasks.\n",
            "  FutureWarning)\n"
          ],
          "name": "stderr"
        }
      ]
    },
    {
      "cell_type": "code",
      "metadata": {
        "colab": {
          "base_uri": "https://localhost:8080/"
        },
        "id": "WjiRT-4a5nG_",
        "outputId": "5a9b71ff-2779-4ac0-f1fe-6cb13330f515"
      },
      "source": [
        "# 2. Precision Score\n",
        "\n",
        "print(cl('Precision Score of our model is {}'.format(precision_score(y_test, yhat).round(2)), attrs = ['bold']))\n"
      ],
      "execution_count": 39,
      "outputs": [
        {
          "output_type": "stream",
          "text": [
            "\u001b[1mPrecision Score of our model is 0.53\u001b[0m\n"
          ],
          "name": "stdout"
        }
      ]
    },
    {
      "cell_type": "code",
      "metadata": {
        "colab": {
          "base_uri": "https://localhost:8080/"
        },
        "id": "ISCTLpMy5vfe",
        "outputId": "b32ae4c0-b7db-473e-d043-ea28eafc5633"
      },
      "source": [
        "# 3. Log loss\n",
        "\n",
        "print(cl('Log Loss of our model is {}'.format(log_loss(y_test, yhat).round(2)), attrs = ['bold']))\n"
      ],
      "execution_count": 40,
      "outputs": [
        {
          "output_type": "stream",
          "text": [
            "\u001b[1mLog Loss of our model is 15.67\u001b[0m\n"
          ],
          "name": "stdout"
        }
      ]
    },
    {
      "cell_type": "markdown",
      "metadata": {
        "id": "o1tteBks56QT"
      },
      "source": [
        "The lower the log loss the better the model, here the log loss is high  "
      ]
    },
    {
      "cell_type": "code",
      "metadata": {
        "colab": {
          "base_uri": "https://localhost:8080/"
        },
        "id": "2XM0M99D6l0f",
        "outputId": "da78a144-45a3-44fd-aa6c-8e6cffa45b76"
      },
      "source": [
        "# 4. Classificaton report\n",
        "\n",
        "print(cl(classification_report(y_test, yhat), attrs = ['bold']))"
      ],
      "execution_count": 41,
      "outputs": [
        {
          "output_type": "stream",
          "text": [
            "\u001b[1m              precision    recall  f1-score   support\n",
            "\n",
            "           0       0.66      0.13      0.22      4365\n",
            "           1       0.53      0.94      0.68      4633\n",
            "\n",
            "    accuracy                           0.55      8998\n",
            "   macro avg       0.60      0.53      0.45      8998\n",
            "weighted avg       0.60      0.55      0.46      8998\n",
            "\u001b[0m\n"
          ],
          "name": "stdout"
        }
      ]
    },
    {
      "cell_type": "code",
      "metadata": {
        "colab": {
          "base_uri": "https://localhost:8080/",
          "height": 316
        },
        "id": "XOgkr8ST6wFP",
        "outputId": "471f45ba-1c41-4f4a-9ffe-e32ca2fc5e44"
      },
      "source": [
        "# 5. Confusion matrix\n",
        "\n",
        "def plot_confusion_matrix(cm, classes,normalize = False, title = 'Confusion matrix', cmap = plt.cm.Blues):\n",
        "    \n",
        "    if normalize:\n",
        "        cm = cm.astype(float) / cm.sum(axis=1)[:, np.newaxis]\n",
        "\n",
        "    plt.imshow(cm, interpolation = 'nearest', cmap = cmap)\n",
        "    plt.title(title, fontsize = 22)\n",
        "    plt.colorbar()\n",
        "    tick_marks = np.arange(len(classes))\n",
        "    plt.xticks(tick_marks, classes, rotation = 45, fontsize = 13)\n",
        "    plt.yticks(tick_marks, classes, fontsize = 13)\n",
        "\n",
        "    fmt = '.2f' if normalize else 'd'\n",
        "    thresh = cm.max() / 2.\n",
        "    for i, j in itertools.product(range(cm.shape[0]), range(cm.shape[1])):\n",
        "        plt.text(j, i, format(cm[i, j], fmt),\n",
        "                 horizontalalignment = 'center',\n",
        "                 fontsize = 15,\n",
        "                 color = 'white' if cm[i, j] > thresh else 'black')\n",
        "\n",
        "    plt.tight_layout()\n",
        "    plt.ylabel('True label', fontsize = 16)\n",
        "    plt.xlabel('Predicted label', fontsize = 16)\n",
        "\n",
        "# Compute confusion matrix\n",
        "\n",
        "cnf_matrix = confusion_matrix(y_test, yhat, labels = [1,0])\n",
        "np.set_printoptions(precision = 2)\n",
        "\n",
        "\n",
        "# Plot non-normalized confusion matrix\n",
        "\n",
        "plt.figure()\n",
        "plot_confusion_matrix(cnf_matrix, classes = ['anemic=1','not anemic=0'], normalize = False,  title = 'Confusion matrix')\n",
        "plt.savefig('confusion_matrix.png')"
      ],
      "execution_count": 32,
      "outputs": [
        {
          "output_type": "display_data",
          "data": {
            "image/png": "[encoded data removed]",
            "text/plain": [
              "<Figure size 432x288 with 2 Axes>"
            ]
          },
          "metadata": {
            "tags": [],
            "needs_background": "light"
          }
        }
      ]
    },
    {
      "cell_type": "code",
      "metadata": {
        "colab": {
          "base_uri": "https://localhost:8080/"
        },
        "id": "xT-O2DZc8Tz5",
        "outputId": "2eb9001b-1151-408c-9603-49066c39abe6"
      },
      "source": [
        "from sklearn.metrics import mean_squared_error\n",
        "\n",
        "y_pred = lin_svr.predict(X_train_scaled)\n",
        "mse = mean_squared_error(y_train, y_pred)\n",
        "mse\n",
        "\n"
      ],
      "execution_count": 42,
      "outputs": [
        {
          "output_type": "execute_result",
          "data": {
            "text/plain": [
              "0.4463990921876524"
            ]
          },
          "metadata": {
            "tags": []
          },
          "execution_count": 42
        }
      ]
    },
    {
      "cell_type": "code",
      "metadata": {
        "colab": {
          "base_uri": "https://localhost:8080/"
        },
        "id": "MSw-Q5gd8-7W",
        "outputId": "0d389130-bfb2-4560-fc05-617f39a3c47a"
      },
      "source": [
        "from sklearn.metrics import mean_squared_error\n",
        "\n",
        "y_pred = lin_svr.predict(X_test_scaled)\n",
        "mse = mean_squared_error(y_test, y_pred)\n",
        "mse"
      ],
      "execution_count": 43,
      "outputs": [
        {
          "output_type": "execute_result",
          "data": {
            "text/plain": [
              "0.44865379870763267"
            ]
          },
          "metadata": {
            "tags": []
          },
          "execution_count": 43
        }
      ]
    },
    {
      "cell_type": "markdown",
      "metadata": {
        "id": "CbJmZm8S9EI0"
      },
      "source": [
        "I get 0.446 for trained, and 0.449 for test data\n",
        "\n"
      ]
    },
    {
      "cell_type": "markdown",
      "metadata": {
        "id": "1kGzHMk34pOC"
      },
      "source": [
        "**testing for maternal health\n"
      ]
    },
    {
      "cell_type": "code",
      "metadata": {
        "id": "-s7f-V6v8Dlp"
      },
      "source": [
        ""
      ],
      "execution_count": null,
      "outputs": []
    }
  ]
}